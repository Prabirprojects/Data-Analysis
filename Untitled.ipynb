{
 "cells": [
  {
   "cell_type": "code",
   "execution_count": null,
   "id": "037e7164-76d0-4025-b3f9-15bd3a95c5cc",
   "metadata": {},
   "outputs": [],
   "source": []
  }
 ],
 "metadata": {
  "kernelspec": {
   "display_name": "",
   "name": ""
  },
  "language_info": {
   "name": ""
  }
 },
 "nbformat": 4,
 "nbformat_minor": 5
}
